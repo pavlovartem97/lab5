{
 "cells": [
  {
   "cell_type": "markdown",
   "metadata": {},
   "source": [
    "### Numpy для решения систем алгебраических уравнений\n",
    "\n",
    "Numpy можно использовать для решения систем алгебраических уравнений вида\n",
    "\n",
    "\n",
    "$$Ax=b$$\n",
    "\n",
    "где A - это матрица коэфициентов (матрица системы), x - столбец неизвестных, b - столбец свободных членов.\n",
    "\n",
    "\n",
    "Для решения таких систем используется функция **linalg.solve()**. Данная функция вычисляет значение неизвестных только для квадратных, невырожденных матриц с полным рангом, т.е. только если матрица A размером {m, m} имеет ранг равный m. Если хотя бы одно из этих условий не выполняется, то возвращается ошибка LinAlgError."
   ]
  },
  {
   "cell_type": "markdown",
   "metadata": {},
   "source": [
    "Пример: решить систему уравнений:\n",
    "$$\n",
    "\\begin{cases} x_0 + 2x_1 - 3x_2 = 4 \\\\ 2x_0 + x_1 + 2x_2 = 3 \\\\ 3x_0 - 2x_1 - x_2 = 9 \\end{cases}\n",
    "$$"
   ]
  },
  {
   "cell_type": "code",
   "execution_count": null,
   "metadata": {},
   "outputs": [],
   "source": [
    "import numpy as np\n",
    "\n",
    "a = [[1, 2, -3],\n",
    "     [2, 1, 2],\n",
    "     [3, -2, -1]]\n",
    "\n",
    "b = [4, 3, 9]\n",
    "\n",
    "x = np.linalg.solve(a, b)\n",
    "x"
   ]
  },
  {
   "cell_type": "markdown",
   "metadata": {},
   "source": [
    "**Упражнение 1.** \n",
    "\n",
    "Найти уравнение параболы, проходящей через точки A и B и касающейся прямой y = kx. Одна из точек A или B лежит на прямой. Сначала решить частный случай задачи для  A = (1, 1), B = (-1, 1), k = 1. Отобразить на графике параболу, прямую и точки касания"
   ]
  },
  {
   "cell_type": "code",
   "execution_count": null,
   "metadata": {},
   "outputs": [],
   "source": []
  },
  {
   "cell_type": "markdown",
   "metadata": {},
   "source": [
    "### Математические операции с матрицами\n"
   ]
  },
  {
   "cell_type": "markdown",
   "metadata": {},
   "source": [
    "Существует 2 способа осуществления математических операций для всего массива. Например - необходимо взять логарифм от всех элементов"
   ]
  },
  {
   "cell_type": "markdown",
   "metadata": {},
   "source": [
    "1 Способ - через генератор списков и пакет math"
   ]
  },
  {
   "cell_type": "code",
   "execution_count": null,
   "metadata": {},
   "outputs": [],
   "source": [
    "import math\n",
    "\n",
    "a = np.linspace(1, 10, 10)\n",
    "print(\"a = \", a)\n",
    "\n",
    "b = [math.log(x) for x in a]\n",
    "print(\"log(a) = \", b)"
   ]
  },
  {
   "cell_type": "markdown",
   "metadata": {},
   "source": [
    "2 способ - через встроенные функции numpy"
   ]
  },
  {
   "cell_type": "code",
   "execution_count": null,
   "metadata": {},
   "outputs": [],
   "source": [
    "b = np.log(a)\n",
    "print(b)"
   ]
  },
  {
   "cell_type": "markdown",
   "metadata": {},
   "source": [
    "Numpy обладает большим количеством полезных опций для выполнения математических операций, ознакомиться с ними можно в официальной документации https://numpy.org/doc/stable/reference/routines.math.html"
   ]
  },
  {
   "cell_type": "markdown",
   "metadata": {},
   "source": [
    "### Работа с графиками"
   ]
  },
  {
   "cell_type": "markdown",
   "metadata": {},
   "source": [
    "В прошлой лабораторной работе мы познакомились с базовым функционалом пакета matplotlib. В данной работе будет рассмотрен продвинутый функционал этого модуля."
   ]
  },
  {
   "cell_type": "markdown",
   "metadata": {},
   "source": [
    "Matplotlib - очень большая библиотека, но по своей сути она состоит из небольшого количества базовых компонентов:"
   ]
  },
  {
   "cell_type": "markdown",
   "metadata": {},
   "source": [
    "<img src = \"https://pyprog.pro/mpl/image/part_0/mpl_anatomy.jpg\">"
   ]
  },
  {
   "cell_type": "markdown",
   "metadata": {},
   "source": [
    "**Figure** - это контейнер самого верхнего уровня, та область на которой все нарисовано. Таких областей может быть несколько, каждая из которых может содержать несколько контейнеров Axes.\n",
    "\n",
    "**Axes** - это та область на которой чаще всего и отражаются графики (данные в виде графиков), а так же все вспомогательные атрибуты (линии сетки, метки, указатели и т.д.)"
   ]
  },
  {
   "cell_type": "code",
   "execution_count": null,
   "metadata": {},
   "outputs": [],
   "source": [
    "import matplotlib.pyplot as plt\n",
    "\n",
    "fig = plt.figure()\n",
    "ax = fig.add_subplot(111)\n",
    "\n",
    "plt.show()"
   ]
  },
  {
   "cell_type": "markdown",
   "metadata": {},
   "source": [
    "В строке **fig = plt.figure()** мы создали область Figure (экземпляр класса figure). В строке **ax = fig.add_subplot(111)** мы добавили к Figure область Axes. В том что Figure и Axes это разные области можно легко убедиться если изменить их цвет. Так же нанесем на область название рабочей области, осей и поставим пределы по осям"
   ]
  },
  {
   "cell_type": "code",
   "execution_count": null,
   "metadata": {},
   "outputs": [],
   "source": [
    "import matplotlib.pyplot as plt\n",
    "\n",
    "fig = plt.figure()\n",
    "ax = fig.add_subplot(111) # We'll explain the \"111\" later. Basically, 1 row and 1 column.\n",
    "\n",
    "fig.set_facecolor('green')\n",
    "\n",
    "ax.set_facecolor('red')\n",
    "ax.set_xlim([-10, 10]) # границы оси x\n",
    "ax.set_ylim([-2, 2]) # границы оси y\n",
    "ax.set_title('Основы matplotlib') # Заголовок\n",
    "ax.set_xlabel('ось абцис ') # Подпись оси абсцисс\n",
    "ax.set_ylabel('ось ординат ') # Подпись оси ординат\n",
    "\n",
    "plt.show()"
   ]
  },
  {
   "cell_type": "markdown",
   "metadata": {},
   "source": [
    "То же самое можно было бы проделать более коротким способом, передав все через аргументы функции"
   ]
  },
  {
   "cell_type": "code",
   "execution_count": null,
   "metadata": {},
   "outputs": [],
   "source": [
    "import matplotlib.pyplot as plt\n",
    "\n",
    "fig = plt.figure()\n",
    "ax = fig.add_subplot(111)\n",
    "\n",
    "fig.set(facecolor = 'green')\n",
    "ax.set(facecolor = 'red',\n",
    "       xlim = [-10, 10],\n",
    "       ylim = [-2, 2],\n",
    "       title = 'Основы анатомии matplotlib',\n",
    "       xlabel = 'ось абцис (XAxis)',\n",
    "       ylabel = 'ось ординат (YAxis)')\n",
    "\n",
    "plt.show()"
   ]
  },
  {
   "cell_type": "code",
   "execution_count": null,
   "metadata": {},
   "outputs": [],
   "source": [
    "import matplotlib.pyplot as plt\n",
    "\n",
    "fig = plt.figure()\n",
    "ax = fig.add_subplot(111)\n",
    "ax.plot([0, 1, 2, 3, 4], [0, 6, 7, 15, 19])\n",
    "ax.scatter([0, 1, 2, 3, 4], [1, 3, 8, 12, 27])\n",
    "\n",
    "plt.show()"
   ]
  },
  {
   "cell_type": "code",
   "execution_count": null,
   "metadata": {},
   "outputs": [],
   "source": [
    "import matplotlib.pyplot as plt\n",
    "\n",
    "fig = plt.figure()\n",
    "ax = fig.add_subplot(111)\n",
    "ax.plot([0, 1, 2, 3, 4], [0, 6, 7, 15, 19], color = 'black', linewidth = 5)\n",
    "ax.scatter([0, 1, 2, 3, 4], [1, 3, 8, 12, 27], color = 'blue', marker = '*')\n",
    "\n",
    "plt.show()"
   ]
  },
  {
   "cell_type": "markdown",
   "metadata": {},
   "source": [
    "### Несколько Axes на одной Figure"
   ]
  },
  {
   "cell_type": "markdown",
   "metadata": {},
   "source": [
    "Очень часто, нам необходимо размещать несколько графиков рядом друг с другом. Это проще всего сделать используя plt.subplots(). Но давайте для начала разберем следующий пример"
   ]
  },
  {
   "cell_type": "code",
   "execution_count": null,
   "metadata": {},
   "outputs": [],
   "source": [
    "import matplotlib.pyplot as plt\n",
    "\n",
    "fig = plt.figure()\n",
    "\n",
    "ax_1 = fig.add_subplot(2, 2, 1)\n",
    "ax_2 = fig.add_subplot(2, 2, 2)\n",
    "ax_3 = fig.add_subplot(2, 2, 3)\n",
    "ax_4 = fig.add_subplot(2, 2, 4)\n",
    "\n",
    "ax_1.set(title = 'ax_1', xticks=[], yticks=[])\n",
    "ax_2.set(title = 'ax_2', xticks=[], yticks=[])\n",
    "ax_3.set(title = 'ax_3', xticks=[], yticks=[])\n",
    "ax_4.set(title = 'ax_4', xticks=[], yticks=[])\n",
    "\n",
    "plt.show()"
   ]
  },
  {
   "cell_type": "markdown",
   "metadata": {},
   "source": [
    "В этом примере, так же как и раньше, мы сначала создали область **Figure**, а затем с помощью команды **fig.add_subplot()** начали добавлять, одну за другой область Axes (ax_1, ax_2, ax_3, ax_4). Причем заметьте, каждая область **Axes** является независимой от других, то есть на на них могут быть нарисованы самые разные графики и установлены самые разные параметры внешнего вида.\n",
    "\n",
    "\n",
    "Теперь давайте немного разберемся с тем что делает метод **add_subplot()**. А делает он следующее, разбивает Figure на указанное количество строк и столбцов. После такого разбиения Figure можно представить как таблицу (или координатную сетку). Затем область Axes помещается в указанную ячейку. Для всего этого **add_subplot()** необходимо всего три числа, которые мы и передаем ему в качестве параметров:\n",
    "\n",
    "первое - количество строк\n",
    "\n",
    "второе - количество столбцов\n",
    "\n",
    "третье - индекс ячейки."
   ]
  },
  {
   "cell_type": "markdown",
   "metadata": {},
   "source": [
    "Заполнять областями Axes всю область Figure не обязательно:"
   ]
  },
  {
   "cell_type": "code",
   "execution_count": null,
   "metadata": {},
   "outputs": [],
   "source": [
    "import matplotlib.pyplot as plt\n",
    "\n",
    "fig = plt.figure()\n",
    "\n",
    "ax_1 = fig.add_subplot(3, 2, 1)\n",
    "ax_2 = fig.add_subplot(3, 2, 4)\n",
    "ax_3 = fig.add_subplot(3, 2, 5)\n",
    "\n",
    "ax_1.set(title = 'ax_1', xticks=[], yticks=[])\n",
    "ax_2.set(title = 'ax_2', xticks=[], yticks=[])\n",
    "ax_3.set(title = 'ax_3', xticks=[], yticks=[])\n",
    "\n",
    "plt.show()"
   ]
  },
  {
   "cell_type": "markdown",
   "metadata": {},
   "source": [
    "Каждый отдельный вызов add_subplot() выполняет разбивку Figure, так как как указано в его параметрах и не зависит от предыдущих разбиений. Такое поведение метода add_subplot() позволяет располагать графики как вам необходимо. Области Axes могут перекрывать друг-друга, быть разного размера или разделенными некоторым пространством, впрочем, как и размещаться в произвольных местах"
   ]
  },
  {
   "cell_type": "code",
   "execution_count": null,
   "metadata": {},
   "outputs": [],
   "source": [
    "import matplotlib.pyplot as plt\n",
    "\n",
    "fig = plt.figure()\n",
    "\n",
    "ax_1 = fig.add_subplot(3, 1, 1)\n",
    "ax_2 = fig.add_subplot(6, 3, 3)\n",
    "ax_3 = fig.add_subplot(3, 3, 4)\n",
    "ax_4 = fig.add_subplot(3, 3, 6)\n",
    "ax_5 = fig.add_subplot(3, 4, 10)\n",
    "ax_6 = fig.add_subplot(5, 5, 25)\n",
    "\n",
    "ax_1.set(title = 'ax_1', xticks=[], yticks=[])\n",
    "ax_2.set(title = 'ax_2', xticks=[], yticks=[])\n",
    "ax_3.set(title = 'ax_3', xticks=[], yticks=[])\n",
    "ax_4.set(title = 'ax_4', xticks=[], yticks=[])\n",
    "ax_5.set(title = 'ax_5', xticks=[], yticks=[])\n",
    "ax_6.set(title = 'ax_6', xticks=[], yticks=[])\n",
    "\n",
    "plt.show()"
   ]
  },
  {
   "cell_type": "markdown",
   "metadata": {},
   "source": [
    "Конечно, такой способ размещения некоторого количества областей Axes на Figure довольно гибок, но на практике функция **plt.subplots(nrows, ncols)** оказывается гораздо удобнее"
   ]
  },
  {
   "cell_type": "code",
   "execution_count": null,
   "metadata": {},
   "outputs": [],
   "source": [
    "import matplotlib.pyplot as plt\n",
    "\n",
    "fig, axes = plt.subplots(nrows = 2, ncols =2 ) # В данном случае происходит распаковка кортежа\n",
    "\n",
    "axes[0,0].set(title='axes[0,0]')\n",
    "axes[0,1].set(title='axes[0,1]')\n",
    "axes[1,0].set(title='axes[1,0]')\n",
    "axes[1,1].set(title='axes[1,1]')\n",
    "\n",
    "for ax in axes.flat:\n",
    "    ax.set(xticks=[], yticks=[])\n",
    "    \n",
    "plt.show()"
   ]
  },
  {
   "cell_type": "markdown",
   "metadata": {},
   "source": [
    "Разберемся, что делает команда **plt.subplots(nrows = 2, ncols =2 )**"
   ]
  },
  {
   "cell_type": "code",
   "execution_count": null,
   "metadata": {},
   "outputs": [],
   "source": [
    "print(plt.subplots(nrows = 2, ncols =2 ))"
   ]
  },
  {
   "cell_type": "markdown",
   "metadata": {},
   "source": [
    "Если вглядеться в вывод, то становится видно, что plt.subplots(nrows, ncols) создает кортеж из двух элементов:\n",
    "\n",
    "1. Область Figure;\n",
    "2. Массив объектов NumPy, состоящий из двух строк и двух столбцов. Каждый элемент этого массива представляет собой отдельную область Axes, к которой можно обратиться по ее индексу в данном массиве."
   ]
  },
  {
   "cell_type": "markdown",
   "metadata": {},
   "source": [
    "Теперь **fig** - это Figure, а **axes** - это массив NumPy, элементами которого являются объекты Axes. Далее, мы решили установить каждой области Axes производится установка своего заголовка методом **set**."
   ]
  },
  {
   "cell_type": "markdown",
   "metadata": {},
   "source": [
    "### Вспомогательные элементы графика"
   ]
  },
  {
   "cell_type": "markdown",
   "metadata": {},
   "source": [
    "Легенда - это помощник, позволяющий определить что соответствует определенному цвету линии или прямоугольника. Лучше пояснить на примере:"
   ]
  },
  {
   "cell_type": "code",
   "execution_count": null,
   "metadata": {},
   "outputs": [],
   "source": [
    "import numpy as np\n",
    "import matplotlib.pyplot as plt\n",
    "\n",
    "x = np.linspace(-3*np.pi, 3*np.pi, 200)\n",
    "y1 = np.sin(x) - 2\n",
    "y2 = np.cos(x) + 2\n",
    "y3 = np.sinc(x)\n",
    "\n",
    "fig, ax = plt.subplots()\n",
    "\n",
    "ax.plot(x, y1, label = 'sin(x)')\n",
    "ax.plot(x, y2, label = 'cos(x)')\n",
    "ax.plot(x, y3, label = r'$\\frac{sin(x)}{x}$')\n",
    "\n",
    "ax.legend()\n",
    "\n",
    "fig.set_figheight(5)\n",
    "fig.set_figwidth(8)\n",
    "plt.show()"
   ]
  },
  {
   "cell_type": "markdown",
   "metadata": {},
   "source": [
    "Легенда сделала график более информативным, хотя сама нуждается в некоторых улучшениях. Но сначала разберемся как она вообще у нас появилась. Во первых, мы добавили параметр **label** в каждом методе plot() - этот параметр содержит текст отображаемый в легенде. Во вторых мы добавили еще один метод **legend**, который собственно и помещает легенду на область Axes.\n",
    "\n",
    "Позиционирование легенды можно установить с помощью параметра loc. по умолчанию этот параметр установлен в значение 'best', что соответствует наилучшему расположению, но это не всегда так. Иногда, положение необходимо установить вручную, для чего имеется еще 10 дополнительных параметров:"
   ]
  },
  {
   "cell_type": "code",
   "execution_count": null,
   "metadata": {},
   "outputs": [],
   "source": [
    "import numpy as np\n",
    "import matplotlib.pyplot as plt\n",
    "\n",
    "x = np.linspace(-3*np.pi, 3*np.pi, 200)\n",
    "y1 = np.sin(x)\n",
    "fig, axes = plt.subplots(5, 2)\n",
    "\n",
    "location = ['upper right', 'upper left', 'lower left',\n",
    "            'lower right', 'right', 'center left', \n",
    "            'center right', 'lower center', 'upper center', 'center']\n",
    "i = 0\n",
    "\n",
    "for ax in axes.ravel():\n",
    "    ax.plot(x, y1, label = 'sin(x)')\n",
    "    ax.legend(loc = location[i])\n",
    "    ax.set_title(location[i])\n",
    "    ax.set_xticks([])\n",
    "    ax.set_yticks([])\n",
    "    i += 1\n",
    "\n",
    "fig.set_figheight(10)\n",
    "fig.set_figwidth(10)\n",
    "plt.show()"
   ]
  },
  {
   "cell_type": "markdown",
   "metadata": {},
   "source": [
    "Порой, простое добавление сетки в разы увеличивает легкость восприятия графика. С сеткой гораздо легче соотносить определенные области графика с значениями на его осях. В самом простом случае, сетка добавляется методом **Axes.grid()**"
   ]
  },
  {
   "cell_type": "code",
   "execution_count": null,
   "metadata": {},
   "outputs": [],
   "source": [
    "import numpy as np\n",
    "import matplotlib.pyplot as plt\n",
    "\n",
    "x = np.linspace(-3*np.pi, 3*np.pi, 200)\n",
    "y = np.sinc(x)\n",
    "\n",
    "fig, ax = plt.subplots()\n",
    "\n",
    "ax.plot(x, y)\n",
    "\n",
    "ax.grid()\n",
    "\n",
    "plt.show()"
   ]
  },
  {
   "cell_type": "markdown",
   "metadata": {},
   "source": [
    "**Упражнение 2.** Построить и отобразить на графике следующие кривые - $y = n!$, $y = n^2$, $y = n$, $y = n*log(n)$, $y = log(n)$. Подписать графики и добавить легенду. Графики должны находится в сетке 2х3. На 1 графике отображаются сразу 5 кривых. На последующих по 1 кривой на графике"
   ]
  },
  {
   "cell_type": "markdown",
   "metadata": {},
   "source": [
    "### Графики с погрешностями"
   ]
  },
  {
   "cell_type": "markdown",
   "metadata": {},
   "source": [
    "Для сдачи лабораторных работ по физике часто появляется необходимость задать погрешность точек измерения. Это делается при помощи **ax.errorbar**. Можно передать как одно значение, так и массив значения, чтобы у каждой точки была своя погрешность"
   ]
  },
  {
   "cell_type": "code",
   "execution_count": null,
   "metadata": {},
   "outputs": [],
   "source": [
    "import matplotlib.pyplot as plt\n",
    "\n",
    "fig, ax = plt.subplots(1, 2)\n",
    "\n",
    "fig.set_figheight(5)\n",
    "fig.set_figwidth(15)\n",
    "\n",
    "x = [1, 2, 3, 4, 5]\n",
    "y = [0.99, 0.49, 0.35, 0.253, 0.18]\n",
    "yerr = np.linspace(0.01, 0.05, 5)\n",
    "\n",
    "ax[0].errorbar(x, y, xerr=0.05, yerr=0.1)\n",
    "ax[1].errorbar(x, y, xerr=0.05, yerr=yerr)\n",
    "\n",
    "ax[0].grid()\n",
    "ax[1].grid()"
   ]
  },
  {
   "cell_type": "markdown",
   "metadata": {},
   "source": [
    "В уже использованном модуле numpy есть метод polyfit, позволяющий приближать данные методом наименьших квадратов. Он возвращает погрешности и коэффициенты полученного многочлена. https://numpy.org/doc/stable/reference/generated/numpy.polyfit.html"
   ]
  },
  {
   "cell_type": "code",
   "execution_count": null,
   "metadata": {},
   "outputs": [],
   "source": [
    "x = [1, 2, 3, 4, 5, 6]\n",
    "y = [1, 1.42, 1.76, 2, 2.24, 2.5]\n",
    "p, v = np.polyfit(x, y, deg=2, cov=True)\n",
    "p, v"
   ]
  },
  {
   "cell_type": "markdown",
   "metadata": {},
   "source": [
    "Многочлен задается формулой p(x) = p[0] * x**deg + ... + p[deg]"
   ]
  },
  {
   "cell_type": "markdown",
   "metadata": {},
   "source": [
    "**Упражнение 3.** Приблизить данные из приведённого примера с погрешностями или свои собственные (из лабораторного практикума по общей физике) многочленами первой и второй степени. Начертить точки с погрешностями и полученные аппроксимационные кривые на одном графике. "
   ]
  },
  {
   "cell_type": "code",
   "execution_count": null,
   "metadata": {},
   "outputs": [],
   "source": []
  },
  {
   "cell_type": "markdown",
   "metadata": {},
   "source": [
    "### Анимированные графики"
   ]
  },
  {
   "cell_type": "markdown",
   "metadata": {},
   "source": [
    "Сохранение серии графиков в многостраничном документе является хорошим выходом когда нам нужна статика, возможность уделять внимание отдельным частям графиков. Но иногда нам необходима динамика, возможность наблюдать за изменением графика в зависимости от изменения определенного параметра."
   ]
  },
  {
   "cell_type": "code",
   "execution_count": null,
   "metadata": {},
   "outputs": [],
   "source": [
    "%matplotlib notebook\n",
    "\n",
    "import numpy as np\n",
    "import matplotlib.pyplot as plt\n",
    "\n",
    "#  Импортируем модуль для работы с анимацией:\n",
    "import matplotlib.animation as animation\n",
    "\n",
    "t = np.linspace(-4, 4, 300)\n",
    "\n",
    "fig, ax = plt.subplots()\n",
    "\n",
    "#  Создаем функцию, генерирующую картинки\n",
    "#  для последующей \"склейки\":\n",
    "def animate(i):\n",
    "    ax.clear()\n",
    "    line = ax.plot(t, np.sin(i*t))\n",
    "    return line\n",
    "\n",
    "#  Создаем объект анимации:\n",
    "sin_animation = animation.FuncAnimation(fig, \n",
    "                                      animate, \n",
    "                                      frames=np.linspace(2, 4, 30),\n",
    "                                      interval = 10,\n",
    "                                      repeat = True)\n",
    "\n",
    "#  Сохраняем анимацию в виде gif файла:\n",
    "sin_animation.save('моя анимация.gif',\n",
    "                 writer='pillow', \n",
    "                 fps=30)"
   ]
  },
  {
   "cell_type": "markdown",
   "metadata": {},
   "source": [
    "Данный пример демонстрирует самый простой способ создания анимации - использование класса **FuncAnimation**. \n",
    "\n",
    "Данный клас позволяет создавать экземпляры анимации и сохранять. При создании указываются следующие атрибуты: \n",
    "\n",
    "**fig** - объект области Figure, который используется для получения рисунков анимации\n",
    "\n",
    "**func** - функция которая генерирует кадры анимации, в нашем случае это функция animate(i). Первый аргумент в данной функции должен определять получение кадров анимации, т.е. как то влиять на изменение картинки, в примере выше параметр i используется при построении функции np.sin(i*t). \n",
    "\n",
    "**frames** -  по сути это может быть любой итерируемый объект, длина которого определяет количество кадров анимации, в примере выше, это np.linspace(2, 4, 30), т.е. 30 кадров. interval задает задержку кадров в миллисекундах (по умолчанию 200)\n",
    "\n",
    "\n",
    "**repeat** - управляет повторением последовательности кадров после завершения их показа (по умолчанию True)."
   ]
  },
  {
   "cell_type": "code",
   "execution_count": null,
   "metadata": {},
   "outputs": [],
   "source": [
    "import matplotlib.pyplot as plt\n",
    "import matplotlib.animation as animation\n",
    "import numpy as np\n",
    "\n",
    " \n",
    "fig = plt.figure()\n",
    "ax = plt.axes(xlim=(-50, 50), ylim=(-50, 50))\n",
    "line, = ax.plot([], [], lw=2)\n",
    "\n",
    "# Функция инициализации.\n",
    "def init():\n",
    "    # создение пустого графа.\n",
    "    line.set_data([], [])\n",
    "    return line\n",
    "\n",
    "xdata, ydata = [], []\n",
    "\n",
    "# функция анимации\n",
    "def animate(i):\n",
    "    t = 0.1 * i\n",
    " \n",
    "    # x, y данные на графике\n",
    "    x = t * np.sin(t)\n",
    "    y = t * np.cos(t)\n",
    " \n",
    "    # добавление новых точек в список точек осей x, y\n",
    "    xdata.append(x)\n",
    "    ydata.append(y)\n",
    "    line.set_data(xdata, ydata)\n",
    "    return line\n",
    "\n",
    "# Заголовок анимации\n",
    "plt.title('Создаем спираль в matplotlib')\n",
    "# Скрываем лишние данные\n",
    "plt.axis('off')\n",
    " \n",
    "# Вызов анимации.\n",
    "anim = animation.FuncAnimation(fig, animate, init_func=init,\n",
    "                               frames=500, interval=20, blit=True)"
   ]
  },
  {
   "cell_type": "markdown",
   "metadata": {},
   "source": [
    "**Упражнение 4.** Реализовать 2 анимированных синуса, сдвинутых относительно друг друга на pi на соседних графиках"
   ]
  }
 ],
 "metadata": {
  "kernelspec": {
   "display_name": "Python 3",
   "language": "python",
   "name": "python3"
  },
  "language_info": {
   "codemirror_mode": {
    "name": "ipython",
    "version": 3
   },
   "file_extension": ".py",
   "mimetype": "text/x-python",
   "name": "python",
   "nbconvert_exporter": "python",
   "pygments_lexer": "ipython3",
   "version": "3.8.5"
  }
 },
 "nbformat": 4,
 "nbformat_minor": 4
}
